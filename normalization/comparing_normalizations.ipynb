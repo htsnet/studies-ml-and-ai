{
 "cells": [
  {
   "cell_type": "markdown",
   "id": "60da8a03-3afc-4dd2-a1eb-2099542f3fee",
   "metadata": {},
   "source": [
    "# Avaliação da influência de normalizações na acurácia de um modelo"
   ]
  },
  {
   "cell_type": "code",
   "execution_count": 1,
   "id": "c96a3297-1d8b-4169-b638-aae35bbe7bb3",
   "metadata": {},
   "outputs": [],
   "source": [
    "# importação das bibliotecas\n",
    "import pandas as pd\n",
    "import numpy as np\n",
    "import matplotlib.pyplot as plt\n",
    "\n",
    "# importação do dataset\n",
    "from sklearn.datasets import fetch_california_housing\n",
    "\n",
    "# bibliotecas para o modelo\n",
    "from sklearn.pipeline import Pipeline\n",
    "from sklearn.neighbors import KNeighborsRegressor\n",
    "from sklearn.pipeline import Pipeline\n",
    "from sklearn.model_selection import GridSearchCV\n",
    "from sklearn.preprocessing import StandardScaler, MinMaxScaler, RobustScaler, MaxAbsScaler, PolynomialFeatures\n",
    "\n",
    "#Import scikit-learn metrics module for accuracy calculation\n",
    "from sklearn.metrics import mean_squared_error \n",
    "from math import sqrt"
   ]
  },
  {
   "cell_type": "code",
   "execution_count": 2,
   "id": "df3e02dd-10bb-4a12-9850-e4bd1f6c537f",
   "metadata": {},
   "outputs": [
    {
     "name": "stdout",
     "output_type": "stream",
     "text": [
      ".. _california_housing_dataset:\n",
      "\n",
      "California Housing dataset\n",
      "--------------------------\n",
      "\n",
      "**Data Set Characteristics:**\n",
      "\n",
      "    :Number of Instances: 20640\n",
      "\n",
      "    :Number of Attributes: 8 numeric, predictive attributes and the target\n",
      "\n",
      "    :Attribute Information:\n",
      "        - MedInc        median income in block\n",
      "        - HouseAge      median house age in block\n",
      "        - AveRooms      average number of rooms\n",
      "        - AveBedrms     average number of bedrooms\n",
      "        - Population    block population\n",
      "        - AveOccup      average house occupancy\n",
      "        - Latitude      house block latitude\n",
      "        - Longitude     house block longitude\n",
      "\n",
      "    :Missing Attribute Values: None\n",
      "\n",
      "This dataset was obtained from the StatLib repository.\n",
      "http://lib.stat.cmu.edu/datasets/\n",
      "\n",
      "The target variable is the median house value for California districts.\n",
      "\n",
      "This dataset was derived from the 1990 U.S. census, using one row per census\n",
      "block group. A block group is the smallest geographical unit for which the U.S.\n",
      "Census Bureau publishes sample data (a block group typically has a population\n",
      "of 600 to 3,000 people).\n",
      "\n",
      "It can be downloaded/loaded using the\n",
      ":func:`sklearn.datasets.fetch_california_housing` function.\n",
      "\n",
      ".. topic:: References\n",
      "\n",
      "    - Pace, R. Kelley and Ronald Barry, Sparse Spatial Autoregressions,\n",
      "      Statistics and Probability Letters, 33 (1997) 291-297\n",
      "\n"
     ]
    }
   ],
   "source": [
    "# Usando o dataset California Housing incluído no Scikitlearn\n",
    "# este dataset não tem valores nulos, o que facilita o entendimento do exemplo\n",
    "print(fetch_california_housing()['DESCR'])"
   ]
  },
  {
   "cell_type": "code",
   "execution_count": 3,
   "id": "d61646ce-6593-452f-9f5a-e357a93c02d4",
   "metadata": {},
   "outputs": [],
   "source": [
    "# obtendo as features e o target (valores de venda)\n",
    "X, y = fetch_california_housing(return_X_y=True)"
   ]
  },
  {
   "cell_type": "code",
   "execution_count": 4,
   "id": "a83b0b15-4817-4c03-ba37-08d4a605ae9e",
   "metadata": {},
   "outputs": [
    {
     "name": "stdout",
     "output_type": "stream",
     "text": [
      "[[   8.3252       41.            6.98412698 ...    2.55555556\n",
      "    37.88       -122.23      ]\n",
      " [   8.3014       21.            6.23813708 ...    2.10984183\n",
      "    37.86       -122.22      ]\n",
      " [   7.2574       52.            8.28813559 ...    2.80225989\n",
      "    37.85       -122.24      ]\n",
      " ...\n",
      " [   1.7          17.            5.20554273 ...    2.3256351\n",
      "    39.43       -121.22      ]\n",
      " [   1.8672       18.            5.32951289 ...    2.12320917\n",
      "    39.43       -121.32      ]\n",
      " [   2.3886       16.            5.25471698 ...    2.61698113\n",
      "    39.37       -121.24      ]] [4.526 3.585 3.521 ... 0.923 0.847 0.894]\n"
     ]
    }
   ],
   "source": [
    "print(X, y)"
   ]
  },
  {
   "cell_type": "code",
   "execution_count": 5,
   "id": "56ac5ef4-e59e-4bf9-8451-60add15c8781",
   "metadata": {},
   "outputs": [
    {
     "data": {
      "text/html": [
       "<div>\n",
       "<style scoped>\n",
       "    .dataframe tbody tr th:only-of-type {\n",
       "        vertical-align: middle;\n",
       "    }\n",
       "\n",
       "    .dataframe tbody tr th {\n",
       "        vertical-align: top;\n",
       "    }\n",
       "\n",
       "    .dataframe thead th {\n",
       "        text-align: right;\n",
       "    }\n",
       "</style>\n",
       "<table border=\"1\" class=\"dataframe\">\n",
       "  <thead>\n",
       "    <tr style=\"text-align: right;\">\n",
       "      <th></th>\n",
       "      <th>0</th>\n",
       "      <th>1</th>\n",
       "      <th>2</th>\n",
       "      <th>3</th>\n",
       "      <th>4</th>\n",
       "      <th>5</th>\n",
       "      <th>6</th>\n",
       "      <th>7</th>\n",
       "    </tr>\n",
       "  </thead>\n",
       "  <tbody>\n",
       "    <tr>\n",
       "      <th>0</th>\n",
       "      <td>8.3252</td>\n",
       "      <td>41.0</td>\n",
       "      <td>6.984127</td>\n",
       "      <td>1.023810</td>\n",
       "      <td>322.0</td>\n",
       "      <td>2.555556</td>\n",
       "      <td>37.88</td>\n",
       "      <td>-122.23</td>\n",
       "    </tr>\n",
       "    <tr>\n",
       "      <th>1</th>\n",
       "      <td>8.3014</td>\n",
       "      <td>21.0</td>\n",
       "      <td>6.238137</td>\n",
       "      <td>0.971880</td>\n",
       "      <td>2401.0</td>\n",
       "      <td>2.109842</td>\n",
       "      <td>37.86</td>\n",
       "      <td>-122.22</td>\n",
       "    </tr>\n",
       "    <tr>\n",
       "      <th>2</th>\n",
       "      <td>7.2574</td>\n",
       "      <td>52.0</td>\n",
       "      <td>8.288136</td>\n",
       "      <td>1.073446</td>\n",
       "      <td>496.0</td>\n",
       "      <td>2.802260</td>\n",
       "      <td>37.85</td>\n",
       "      <td>-122.24</td>\n",
       "    </tr>\n",
       "  </tbody>\n",
       "</table>\n",
       "</div>"
      ],
      "text/plain": [
       "        0     1         2         3       4         5      6       7\n",
       "0  8.3252  41.0  6.984127  1.023810   322.0  2.555556  37.88 -122.23\n",
       "1  8.3014  21.0  6.238137  0.971880  2401.0  2.109842  37.86 -122.22\n",
       "2  7.2574  52.0  8.288136  1.073446   496.0  2.802260  37.85 -122.24"
      ]
     },
     "execution_count": 5,
     "metadata": {},
     "output_type": "execute_result"
    }
   ],
   "source": [
    "# mostrando em formato DataFrame para melhor visualização\n",
    "dfX = pd.DataFrame(X)\n",
    "dfX.head(3)"
   ]
  },
  {
   "cell_type": "code",
   "execution_count": 40,
   "id": "ee69ab34-3f80-4617-890d-33fb3bb118fd",
   "metadata": {},
   "outputs": [
    {
     "data": {
      "text/html": [
       "<div>\n",
       "<style scoped>\n",
       "    .dataframe tbody tr th:only-of-type {\n",
       "        vertical-align: middle;\n",
       "    }\n",
       "\n",
       "    .dataframe tbody tr th {\n",
       "        vertical-align: top;\n",
       "    }\n",
       "\n",
       "    .dataframe thead th {\n",
       "        text-align: right;\n",
       "    }\n",
       "</style>\n",
       "<table border=\"1\" class=\"dataframe\">\n",
       "  <thead>\n",
       "    <tr style=\"text-align: right;\">\n",
       "      <th></th>\n",
       "      <th>0</th>\n",
       "    </tr>\n",
       "  </thead>\n",
       "  <tbody>\n",
       "    <tr>\n",
       "      <th>0</th>\n",
       "      <td>4.526</td>\n",
       "    </tr>\n",
       "    <tr>\n",
       "      <th>1</th>\n",
       "      <td>3.585</td>\n",
       "    </tr>\n",
       "    <tr>\n",
       "      <th>2</th>\n",
       "      <td>3.521</td>\n",
       "    </tr>\n",
       "    <tr>\n",
       "      <th>3</th>\n",
       "      <td>3.413</td>\n",
       "    </tr>\n",
       "    <tr>\n",
       "      <th>4</th>\n",
       "      <td>3.422</td>\n",
       "    </tr>\n",
       "  </tbody>\n",
       "</table>\n",
       "</div>"
      ],
      "text/plain": [
       "       0\n",
       "0  4.526\n",
       "1  3.585\n",
       "2  3.521\n",
       "3  3.413\n",
       "4  3.422"
      ]
     },
     "execution_count": 40,
     "metadata": {},
     "output_type": "execute_result"
    }
   ],
   "source": [
    "# mostrando em formato DataFrame para melhor visualização\n",
    "dfY = pd.DataFrame(y)\n",
    "dfY.head(5)"
   ]
  },
  {
   "cell_type": "code",
   "execution_count": 7,
   "id": "ab8fd454-7270-4ea3-a064-da41e5988a96",
   "metadata": {},
   "outputs": [
    {
     "data": {
      "text/plain": [
       "<matplotlib.collections.PathCollection at 0x27f411fdb20>"
      ]
     },
     "execution_count": 7,
     "metadata": {},
     "output_type": "execute_result"
    },
    {
     "data": {
      "image/png": "[encoded data removed]",
      "text/plain": [
       "<Figure size 432x288 with 1 Axes>"
      ]
     },
     "metadata": {
      "needs_background": "light"
     },
     "output_type": "display_data"
    }
   ],
   "source": [
    "# comparação de 2 variáveis (0 e 1)\n",
    "plt.scatter(X[:, 0], X[:, 1])"
   ]
  },
  {
   "cell_type": "code",
   "execution_count": 8,
   "id": "d901677c-2767-4bf6-ba4f-faae084e8146",
   "metadata": {},
   "outputs": [
    {
     "data": {
      "text/plain": [
       "<matplotlib.collections.PathCollection at 0x27f7ea765b0>"
      ]
     },
     "execution_count": 8,
     "metadata": {},
     "output_type": "execute_result"
    },
    {
     "data": {
      "image/png": "[encoded data removed]",
      "text/plain": [
       "<Figure size 432x288 with 1 Axes>"
      ]
     },
     "metadata": {
      "needs_background": "light"
     },
     "output_type": "display_data"
    }
   ],
   "source": [
    "# comparação de 2 variáveis (1 e 2)\n",
    "plt.scatter(X[:, 1], X[:, 2])"
   ]
  },
  {
   "cell_type": "markdown",
   "id": "8c669d07-86a4-40e5-a176-273deb712353",
   "metadata": {},
   "source": [
    "## Criando um modelo sem qualquer normalização de dados"
   ]
  },
  {
   "cell_type": "code",
   "execution_count": 9,
   "id": "2cad614c-d558-4597-ac5f-57c90e0f3ac7",
   "metadata": {},
   "outputs": [],
   "source": [
    "# criação do pipeline somente com o classificador\n",
    "pipe = Pipeline([\n",
    "    ('model', KNeighborsRegressor())\n",
    "])\n"
   ]
  },
  {
   "cell_type": "code",
   "execution_count": 10,
   "id": "9740f671-b0c7-41da-a608-74681af899bc",
   "metadata": {},
   "outputs": [],
   "source": [
    "# criação do GridSearch\n",
    "mod = GridSearchCV(\n",
    "    estimator=pipe,\n",
    "    param_grid={'model__n_neighbors': [3, 4, 5, 7, 9, 10]},\n",
    "    cv = 10\n",
    ")"
   ]
  },
  {
   "cell_type": "code",
   "execution_count": 11,
   "id": "0d982e15-fe11-4ecd-ae0d-57b536b78af2",
   "metadata": {},
   "outputs": [
    {
     "data": {
      "text/plain": [
       "{'cv': 10,\n",
       " 'error_score': nan,\n",
       " 'estimator__memory': None,\n",
       " 'estimator__steps': [('model', KNeighborsRegressor())],\n",
       " 'estimator__verbose': False,\n",
       " 'estimator__model': KNeighborsRegressor(),\n",
       " 'estimator__model__algorithm': 'auto',\n",
       " 'estimator__model__leaf_size': 30,\n",
       " 'estimator__model__metric': 'minkowski',\n",
       " 'estimator__model__metric_params': None,\n",
       " 'estimator__model__n_jobs': None,\n",
       " 'estimator__model__n_neighbors': 5,\n",
       " 'estimator__model__p': 2,\n",
       " 'estimator__model__weights': 'uniform',\n",
       " 'estimator': Pipeline(steps=[('model', KNeighborsRegressor())]),\n",
       " 'n_jobs': None,\n",
       " 'param_grid': {'model__n_neighbors': [3, 4, 5, 7, 9, 10]},\n",
       " 'pre_dispatch': '2*n_jobs',\n",
       " 'refit': True,\n",
       " 'return_train_score': False,\n",
       " 'scoring': None,\n",
       " 'verbose': 0}"
      ]
     },
     "execution_count": 11,
     "metadata": {},
     "output_type": "execute_result"
    }
   ],
   "source": [
    "mod.get_params()"
   ]
  },
  {
   "cell_type": "code",
   "execution_count": 12,
   "id": "5e91e8d9-ee0d-4758-9a89-0f6abb599fc7",
   "metadata": {},
   "outputs": [
    {
     "data": {
      "text/plain": [
       "GridSearchCV(cv=10,\n",
       "             estimator=Pipeline(steps=[('model', KNeighborsRegressor())]),\n",
       "             param_grid={'model__n_neighbors': [3, 4, 5, 7, 9, 10]})"
      ]
     },
     "execution_count": 12,
     "metadata": {},
     "output_type": "execute_result"
    }
   ],
   "source": [
    "# treino do modelo\n",
    "mod.fit(X, y)"
   ]
  },
  {
   "cell_type": "code",
   "execution_count": 13,
   "id": "d7e93f6c-faeb-42b1-90ff-bb3b714ff3ee",
   "metadata": {},
   "outputs": [
    {
     "data": {
      "text/html": [
       "<div>\n",
       "<style scoped>\n",
       "    .dataframe tbody tr th:only-of-type {\n",
       "        vertical-align: middle;\n",
       "    }\n",
       "\n",
       "    .dataframe tbody tr th {\n",
       "        vertical-align: top;\n",
       "    }\n",
       "\n",
       "    .dataframe thead th {\n",
       "        text-align: right;\n",
       "    }\n",
       "</style>\n",
       "<table border=\"1\" class=\"dataframe\">\n",
       "  <thead>\n",
       "    <tr style=\"text-align: right;\">\n",
       "      <th></th>\n",
       "      <th>mean_fit_time</th>\n",
       "      <th>std_fit_time</th>\n",
       "      <th>mean_score_time</th>\n",
       "      <th>std_score_time</th>\n",
       "      <th>param_model__n_neighbors</th>\n",
       "      <th>params</th>\n",
       "      <th>split0_test_score</th>\n",
       "      <th>split1_test_score</th>\n",
       "      <th>split2_test_score</th>\n",
       "      <th>split3_test_score</th>\n",
       "      <th>split4_test_score</th>\n",
       "      <th>split5_test_score</th>\n",
       "      <th>split6_test_score</th>\n",
       "      <th>split7_test_score</th>\n",
       "      <th>split8_test_score</th>\n",
       "      <th>split9_test_score</th>\n",
       "      <th>mean_test_score</th>\n",
       "      <th>std_test_score</th>\n",
       "      <th>rank_test_score</th>\n",
       "    </tr>\n",
       "  </thead>\n",
       "  <tbody>\n",
       "    <tr>\n",
       "      <th>0</th>\n",
       "      <td>0.040898</td>\n",
       "      <td>0.001445</td>\n",
       "      <td>0.010104</td>\n",
       "      <td>0.000830</td>\n",
       "      <td>3</td>\n",
       "      <td>{'model__n_neighbors': 3}</td>\n",
       "      <td>-0.098196</td>\n",
       "      <td>-0.085104</td>\n",
       "      <td>0.048438</td>\n",
       "      <td>0.014687</td>\n",
       "      <td>0.052493</td>\n",
       "      <td>-0.003277</td>\n",
       "      <td>-0.899167</td>\n",
       "      <td>-0.090386</td>\n",
       "      <td>-0.766223</td>\n",
       "      <td>-0.134335</td>\n",
       "      <td>-0.196107</td>\n",
       "      <td>0.325492</td>\n",
       "      <td>6</td>\n",
       "    </tr>\n",
       "    <tr>\n",
       "      <th>1</th>\n",
       "      <td>0.040001</td>\n",
       "      <td>0.000893</td>\n",
       "      <td>0.010600</td>\n",
       "      <td>0.000489</td>\n",
       "      <td>4</td>\n",
       "      <td>{'model__n_neighbors': 4}</td>\n",
       "      <td>-0.006778</td>\n",
       "      <td>-0.065316</td>\n",
       "      <td>0.084546</td>\n",
       "      <td>0.059016</td>\n",
       "      <td>0.054946</td>\n",
       "      <td>0.026840</td>\n",
       "      <td>-0.801035</td>\n",
       "      <td>-0.076298</td>\n",
       "      <td>-0.762449</td>\n",
       "      <td>-0.098529</td>\n",
       "      <td>-0.158506</td>\n",
       "      <td>0.317168</td>\n",
       "      <td>5</td>\n",
       "    </tr>\n",
       "    <tr>\n",
       "      <th>2</th>\n",
       "      <td>0.040698</td>\n",
       "      <td>0.001101</td>\n",
       "      <td>0.010600</td>\n",
       "      <td>0.000664</td>\n",
       "      <td>5</td>\n",
       "      <td>{'model__n_neighbors': 5}</td>\n",
       "      <td>0.038265</td>\n",
       "      <td>-0.062495</td>\n",
       "      <td>0.076177</td>\n",
       "      <td>0.104790</td>\n",
       "      <td>0.049476</td>\n",
       "      <td>0.037426</td>\n",
       "      <td>-0.743533</td>\n",
       "      <td>-0.052978</td>\n",
       "      <td>-0.735343</td>\n",
       "      <td>-0.083733</td>\n",
       "      <td>-0.137195</td>\n",
       "      <td>0.306784</td>\n",
       "      <td>4</td>\n",
       "    </tr>\n",
       "    <tr>\n",
       "      <th>3</th>\n",
       "      <td>0.040399</td>\n",
       "      <td>0.001625</td>\n",
       "      <td>0.011701</td>\n",
       "      <td>0.000639</td>\n",
       "      <td>7</td>\n",
       "      <td>{'model__n_neighbors': 7}</td>\n",
       "      <td>0.077123</td>\n",
       "      <td>-0.063025</td>\n",
       "      <td>0.087127</td>\n",
       "      <td>0.175959</td>\n",
       "      <td>0.034507</td>\n",
       "      <td>0.062035</td>\n",
       "      <td>-0.746184</td>\n",
       "      <td>-0.025205</td>\n",
       "      <td>-0.691182</td>\n",
       "      <td>-0.053275</td>\n",
       "      <td>-0.114212</td>\n",
       "      <td>0.310010</td>\n",
       "      <td>3</td>\n",
       "    </tr>\n",
       "    <tr>\n",
       "      <th>4</th>\n",
       "      <td>0.039699</td>\n",
       "      <td>0.000458</td>\n",
       "      <td>0.012200</td>\n",
       "      <td>0.000401</td>\n",
       "      <td>9</td>\n",
       "      <td>{'model__n_neighbors': 9}</td>\n",
       "      <td>0.103848</td>\n",
       "      <td>-0.076967</td>\n",
       "      <td>0.069544</td>\n",
       "      <td>0.181275</td>\n",
       "      <td>0.030953</td>\n",
       "      <td>0.066866</td>\n",
       "      <td>-0.689333</td>\n",
       "      <td>-0.003021</td>\n",
       "      <td>-0.691986</td>\n",
       "      <td>-0.034540</td>\n",
       "      <td>-0.104336</td>\n",
       "      <td>0.301032</td>\n",
       "      <td>1</td>\n",
       "    </tr>\n",
       "    <tr>\n",
       "      <th>5</th>\n",
       "      <td>0.041396</td>\n",
       "      <td>0.002327</td>\n",
       "      <td>0.013005</td>\n",
       "      <td>0.000892</td>\n",
       "      <td>10</td>\n",
       "      <td>{'model__n_neighbors': 10}</td>\n",
       "      <td>0.096057</td>\n",
       "      <td>-0.077864</td>\n",
       "      <td>0.069562</td>\n",
       "      <td>0.181108</td>\n",
       "      <td>0.025241</td>\n",
       "      <td>0.074052</td>\n",
       "      <td>-0.698633</td>\n",
       "      <td>0.006163</td>\n",
       "      <td>-0.683655</td>\n",
       "      <td>-0.036370</td>\n",
       "      <td>-0.104434</td>\n",
       "      <td>0.301134</td>\n",
       "      <td>2</td>\n",
       "    </tr>\n",
       "  </tbody>\n",
       "</table>\n",
       "</div>"
      ],
      "text/plain": [
       "   mean_fit_time  std_fit_time  mean_score_time  std_score_time  \\\n",
       "0       0.040898      0.001445         0.010104        0.000830   \n",
       "1       0.040001      0.000893         0.010600        0.000489   \n",
       "2       0.040698      0.001101         0.010600        0.000664   \n",
       "3       0.040399      0.001625         0.011701        0.000639   \n",
       "4       0.039699      0.000458         0.012200        0.000401   \n",
       "5       0.041396      0.002327         0.013005        0.000892   \n",
       "\n",
       "  param_model__n_neighbors                      params  split0_test_score  \\\n",
       "0                        3   {'model__n_neighbors': 3}          -0.098196   \n",
       "1                        4   {'model__n_neighbors': 4}          -0.006778   \n",
       "2                        5   {'model__n_neighbors': 5}           0.038265   \n",
       "3                        7   {'model__n_neighbors': 7}           0.077123   \n",
       "4                        9   {'model__n_neighbors': 9}           0.103848   \n",
       "5                       10  {'model__n_neighbors': 10}           0.096057   \n",
       "\n",
       "   split1_test_score  split2_test_score  split3_test_score  split4_test_score  \\\n",
       "0          -0.085104           0.048438           0.014687           0.052493   \n",
       "1          -0.065316           0.084546           0.059016           0.054946   \n",
       "2          -0.062495           0.076177           0.104790           0.049476   \n",
       "3          -0.063025           0.087127           0.175959           0.034507   \n",
       "4          -0.076967           0.069544           0.181275           0.030953   \n",
       "5          -0.077864           0.069562           0.181108           0.025241   \n",
       "\n",
       "   split5_test_score  split6_test_score  split7_test_score  split8_test_score  \\\n",
       "0          -0.003277          -0.899167          -0.090386          -0.766223   \n",
       "1           0.026840          -0.801035          -0.076298          -0.762449   \n",
       "2           0.037426          -0.743533          -0.052978          -0.735343   \n",
       "3           0.062035          -0.746184          -0.025205          -0.691182   \n",
       "4           0.066866          -0.689333          -0.003021          -0.691986   \n",
       "5           0.074052          -0.698633           0.006163          -0.683655   \n",
       "\n",
       "   split9_test_score  mean_test_score  std_test_score  rank_test_score  \n",
       "0          -0.134335        -0.196107        0.325492                6  \n",
       "1          -0.098529        -0.158506        0.317168                5  \n",
       "2          -0.083733        -0.137195        0.306784                4  \n",
       "3          -0.053275        -0.114212        0.310010                3  \n",
       "4          -0.034540        -0.104336        0.301032                1  \n",
       "5          -0.036370        -0.104434        0.301134                2  "
      ]
     },
     "execution_count": 13,
     "metadata": {},
     "output_type": "execute_result"
    }
   ],
   "source": [
    "# visualização do resultado do Gridsearch\n",
    "pd.DataFrame(mod.cv_results_)"
   ]
  },
  {
   "cell_type": "code",
   "execution_count": 14,
   "id": "d3b2dc0b-45ef-4d07-8c51-79ddc619e13c",
   "metadata": {},
   "outputs": [],
   "source": [
    "# predição usando os mesmos dados do treinamento (apenas para efeito de comparação)\n",
    "pred = mod.predict(X)"
   ]
  },
  {
   "cell_type": "code",
   "execution_count": 15,
   "id": "ebe25712-d5e1-4055-b273-c461c8359034",
   "metadata": {},
   "outputs": [
    {
     "data": {
      "text/plain": [
       "<matplotlib.collections.PathCollection at 0x27f7eab6040>"
      ]
     },
     "execution_count": 15,
     "metadata": {},
     "output_type": "execute_result"
    },
    {
     "data": {
      "image/png": "[encoded data removed]",
      "text/plain": [
       "<Figure size 432x288 with 1 Axes>"
      ]
     },
     "metadata": {
      "needs_background": "light"
     },
     "output_type": "display_data"
    }
   ],
   "source": [
    "# comparando a predição com o valor real\n",
    "# ATENÇÃO: Foi utilizado apenas para efeito de avaliação o mesmo conjunto de dados para treino e predição!!\n",
    "plt.scatter(pred, y)"
   ]
  },
  {
   "cell_type": "code",
   "execution_count": 16,
   "id": "f8ea8091-e199-4e9a-a966-b1e520e4c739",
   "metadata": {},
   "outputs": [
    {
     "data": {
      "text/plain": [
       "array([2.46966778, 2.48155556, 3.24344667, ..., 1.18366667, 1.47644444,\n",
       "       1.81244444])"
      ]
     },
     "execution_count": 16,
     "metadata": {},
     "output_type": "execute_result"
    }
   ],
   "source": [
    "# apenas para visualizar os dados da predição\n",
    "pred"
   ]
  },
  {
   "cell_type": "code",
   "execution_count": 17,
   "id": "ffc26997-9d60-43b6-aa89-cf1f6c00a09a",
   "metadata": {},
   "outputs": [
    {
     "name": "stdout",
     "output_type": "stream",
     "text": [
      "Erro médio quadrado 0.9259031324220246\n"
     ]
    }
   ],
   "source": [
    "error = sqrt(mean_squared_error(y,pred)) #calculate rmse\n",
    "print(\"Erro médio quadrado {}\".format(error))"
   ]
  },
  {
   "cell_type": "code",
   "execution_count": 27,
   "id": "05b465cb-e8b2-4c12-94c0-2f258f100e88",
   "metadata": {},
   "outputs": [],
   "source": [
    "ErrorArray = []\n",
    "ErrorArray.append(['Sem', error])"
   ]
  },
  {
   "cell_type": "code",
   "execution_count": 28,
   "id": "a8799d57-d083-4df1-8b43-2db8f632f872",
   "metadata": {},
   "outputs": [
    {
     "data": {
      "text/html": [
       "<div>\n",
       "<style scoped>\n",
       "    .dataframe tbody tr th:only-of-type {\n",
       "        vertical-align: middle;\n",
       "    }\n",
       "\n",
       "    .dataframe tbody tr th {\n",
       "        vertical-align: top;\n",
       "    }\n",
       "\n",
       "    .dataframe thead th {\n",
       "        text-align: right;\n",
       "    }\n",
       "</style>\n",
       "<table border=\"1\" class=\"dataframe\">\n",
       "  <thead>\n",
       "    <tr style=\"text-align: right;\">\n",
       "      <th></th>\n",
       "      <th>Predict</th>\n",
       "    </tr>\n",
       "  </thead>\n",
       "  <tbody>\n",
       "    <tr>\n",
       "      <th>0</th>\n",
       "      <td>2.469668</td>\n",
       "    </tr>\n",
       "    <tr>\n",
       "      <th>1</th>\n",
       "      <td>2.481556</td>\n",
       "    </tr>\n",
       "    <tr>\n",
       "      <th>2</th>\n",
       "      <td>3.243447</td>\n",
       "    </tr>\n",
       "    <tr>\n",
       "      <th>3</th>\n",
       "      <td>2.727780</td>\n",
       "    </tr>\n",
       "    <tr>\n",
       "      <th>4</th>\n",
       "      <td>2.891557</td>\n",
       "    </tr>\n",
       "  </tbody>\n",
       "</table>\n",
       "</div>"
      ],
      "text/plain": [
       "    Predict\n",
       "0  2.469668\n",
       "1  2.481556\n",
       "2  3.243447\n",
       "3  2.727780\n",
       "4  2.891557"
      ]
     },
     "execution_count": 28,
     "metadata": {},
     "output_type": "execute_result"
    }
   ],
   "source": [
    "pd.DataFrame(pred, columns=['Predict']).head(5)"
   ]
  },
  {
   "cell_type": "markdown",
   "id": "0240d9a7-4bce-47c4-b462-1913320b2e63",
   "metadata": {},
   "source": [
    "## Criando uma função para uso nos blocos seguintes"
   ]
  },
  {
   "cell_type": "code",
   "execution_count": 30,
   "id": "e5ae79c9-5a59-413c-a702-9ed89e0f8dec",
   "metadata": {},
   "outputs": [],
   "source": [
    "def execucao(pipe, X, y, errorArray, qual):\n",
    "    # criação do GridSearch\n",
    "    mod = GridSearchCV(\n",
    "        estimator=pipe,\n",
    "        param_grid={'model__n_neighbors': [3, 4, 5, 7, 9, 10]},\n",
    "        cv = 10\n",
    "    )\n",
    "\n",
    "    # treino do modelo\n",
    "    mod.fit(X, y)\n",
    "\n",
    "    # predição usando os mesmos dados do treinamento (apenas para efeito de comparação)\n",
    "    pred = mod.predict(X)\n",
    "    \n",
    "    # comparando a predição com o valor real\n",
    "    plt.scatter(pred, y)\n",
    "    \n",
    "    # apenas para visualizar os dados da predição\n",
    "    print('Valores previstos {}'.format(pred))\n",
    "    \n",
    "    # calcula o erro RMSE\n",
    "    error = sqrt(mean_squared_error(y,pred)) #calculate rmse\n",
    "    print(\"Erro médio quadrado {}\".format(error))\n",
    "    \n",
    "    # visualizando os primeiros registros preditos\n",
    "    print(pd.DataFrame(pred, columns=['Predict']).head(5))\n",
    "    \n",
    "    ErrorArray.append([qual, error])\n",
    "    #print(ErrorArray)\n",
    "    return ErrorArray"
   ]
  },
  {
   "cell_type": "markdown",
   "id": "c59bcecc-9b77-434e-9c5d-56dc63e46012",
   "metadata": {},
   "source": [
    "## A: Criando a mesma sequência com StandardScaler"
   ]
  },
  {
   "cell_type": "code",
   "execution_count": 31,
   "id": "21c16760-d66a-41d3-821f-b9bb79a697dc",
   "metadata": {},
   "outputs": [
    {
     "name": "stdout",
     "output_type": "stream",
     "text": [
      "Valores previstos [4.784107 4.326802 4.355605 ... 0.8098   0.8726   1.0126  ]\n",
      "Erro médio quadrado 0.5667217027795453\n",
      "    Predict\n",
      "0  4.784107\n",
      "1  4.326802\n",
      "2  4.355605\n",
      "3  3.964403\n",
      "4  2.362700\n",
      "[['Sem', 0.9259031324220246], ['StandardScaler', 0.5667217027795453]]\n"
     ]
    },
    {
     "data": {
      "image/png": "[encoded data removed]",
      "text/plain": [
       "<Figure size 432x288 with 1 Axes>"
      ]
     },
     "metadata": {
      "needs_background": "light"
     },
     "output_type": "display_data"
    }
   ],
   "source": [
    "# criação do mesmo pipeline mas com a inclusão de uma fase de normalização: StandardScaler\n",
    "pipe = Pipeline([\n",
    "    ('scale', StandardScaler()),\n",
    "    ('model', KNeighborsRegressor())\n",
    "])\n",
    "ErrorArray = execucao(pipe, X, y, ErrorArray, 'StandardScaler')"
   ]
  },
  {
   "cell_type": "markdown",
   "id": "92addab4-9f13-469a-81d2-ff1637cbc851",
   "metadata": {},
   "source": [
    "## B: Criando a mesma sequência com MinMaxScaler"
   ]
  },
  {
   "cell_type": "code",
   "execution_count": 33,
   "id": "db781acd-60c3-47b4-8f8a-ad4c2b988c59",
   "metadata": {},
   "outputs": [
    {
     "name": "stdout",
     "output_type": "stream",
     "text": [
      "Valores previstos [4.251105 3.9643   3.873401 ... 0.7981   0.8137   1.0521  ]\n",
      "Erro médio quadrado 0.5511093655398388\n",
      "    Predict\n",
      "0  4.251105\n",
      "1  3.964300\n",
      "2  3.873401\n",
      "3  3.459000\n",
      "4  2.228600\n",
      "[['Sem', 0.9259031324220246], ['StandardScaler', 0.5667217027795453], ['MinMaxScaler', 0.5511093655398388]]\n"
     ]
    },
    {
     "data": {
      "image/png": "[encoded data removed]",
      "text/plain": [
       "<Figure size 432x288 with 1 Axes>"
      ]
     },
     "metadata": {
      "needs_background": "light"
     },
     "output_type": "display_data"
    }
   ],
   "source": [
    "# criação do mesmo pipeline mas com a inclusão de uma fase de normalização: MinMaxScaler\n",
    "pipe = Pipeline([\n",
    "    ('scale', MinMaxScaler()),\n",
    "    ('model', KNeighborsRegressor())\n",
    "])\n",
    "ErrorArray = execucao(pipe, X, y, ErrorArray, 'MinMaxScaler')"
   ]
  },
  {
   "cell_type": "markdown",
   "id": "be2630c8-cca8-4151-b487-c71d94da48ba",
   "metadata": {},
   "source": [
    "## C: Criando a mesma sequência com RobustScaler"
   ]
  },
  {
   "cell_type": "code",
   "execution_count": 34,
   "id": "f35f2a8f-96e6-491e-9d27-69c57bf66dd2",
   "metadata": {},
   "outputs": [
    {
     "name": "stdout",
     "output_type": "stream",
     "text": [
      "Valores previstos [4.132703 4.311402 4.329104 ... 0.8107   0.899    0.9955  ]\n",
      "Erro médio quadrado 0.5635762420188265\n",
      "    Predict\n",
      "0  4.132703\n",
      "1  4.311402\n",
      "2  4.329104\n",
      "3  3.472400\n",
      "4  2.824800\n",
      "[['Sem', 0.9259031324220246], ['StandardScaler', 0.5667217027795453], ['MinMaxScaler', 0.5511093655398388], ['RobustScaler', 0.5635762420188265]]\n"
     ]
    },
    {
     "data": {
      "image/png": "[encoded data removed]",
      "text/plain": [
       "<Figure size 432x288 with 1 Axes>"
      ]
     },
     "metadata": {
      "needs_background": "light"
     },
     "output_type": "display_data"
    }
   ],
   "source": [
    "# criação do mesmo pipeline mas com a inclusão de uma fase de normalização: RobustScaler\n",
    "pipe = Pipeline([\n",
    "    ('scale', RobustScaler()),\n",
    "    ('model', KNeighborsRegressor())\n",
    "])\n",
    "ErrorArray = execucao(pipe, X, y, ErrorArray, 'RobustScaler')"
   ]
  },
  {
   "cell_type": "markdown",
   "id": "750a8a17-e393-4009-a7a7-f20c6e1ff1f7",
   "metadata": {},
   "source": [
    "## D: Criando a mesma sequência com MaxAbsScaler"
   ]
  },
  {
   "cell_type": "code",
   "execution_count": 35,
   "id": "4faa892b-4618-4ffe-b17b-47ce31a07dc1",
   "metadata": {},
   "outputs": [
    {
     "name": "stdout",
     "output_type": "stream",
     "text": [
      "Valores previstos [4.311306 3.788    4.103503 ... 0.8023   0.9486   1.127   ]\n",
      "Erro médio quadrado 0.6628928627358934\n",
      "    Predict\n",
      "0  4.311306\n",
      "1  3.788000\n",
      "2  4.103503\n",
      "3  3.664501\n",
      "4  2.542200\n",
      "[['Sem', 0.9259031324220246], ['StandardScaler', 0.5667217027795453], ['MinMaxScaler', 0.5511093655398388], ['RobustScaler', 0.5635762420188265], ['MaxAbsScaler', 0.6628928627358934]]\n"
     ]
    },
    {
     "data": {
      "image/png": "[encoded data removed]",
      "text/plain": [
       "<Figure size 432x288 with 1 Axes>"
      ]
     },
     "metadata": {
      "needs_background": "light"
     },
     "output_type": "display_data"
    }
   ],
   "source": [
    "# criação do mesmo pipeline mas com a inclusão de uma fase de normalização: MaxAbsScaler\n",
    "pipe = Pipeline([\n",
    "    ('scale', MaxAbsScaler()),\n",
    "    ('model', KNeighborsRegressor())\n",
    "])\n",
    "ErrorArray = execucao(pipe, X, y, ErrorArray, 'MaxAbsScaler')"
   ]
  },
  {
   "cell_type": "markdown",
   "id": "52338e6b-a9a4-4885-b905-407530db5a2d",
   "metadata": {},
   "source": [
    "## E: Criando a mesma sequência com PolynomialFeatures"
   ]
  },
  {
   "cell_type": "code",
   "execution_count": 36,
   "id": "e21fcaa3-bc0a-42a3-847a-e667f6b82a13",
   "metadata": {},
   "outputs": [
    {
     "name": "stdout",
     "output_type": "stream",
     "text": [
      "Valores previstos [2.384501 1.8481   3.056602 ... 1.1878   1.4815   1.8978  ]\n",
      "Erro médio quadrado 0.9802299200333445\n",
      "    Predict\n",
      "0  2.384501\n",
      "1  1.848100\n",
      "2  3.056602\n",
      "3  2.207901\n",
      "4  3.116601\n",
      "[['Sem', 0.9259031324220246], ['StandardScaler', 0.5667217027795453], ['MinMaxScaler', 0.5511093655398388], ['RobustScaler', 0.5635762420188265], ['MaxAbsScaler', 0.6628928627358934], ['PolynomialFeatures', 0.9802299200333445]]\n"
     ]
    },
    {
     "data": {
      "image/png": "[encoded data removed]",
      "text/plain": [
       "<Figure size 432x288 with 1 Axes>"
      ]
     },
     "metadata": {
      "needs_background": "light"
     },
     "output_type": "display_data"
    }
   ],
   "source": [
    "# criação do mesmo pipeline mas com a inclusão de uma fase de normalização: PolynomialFeatures\n",
    "pipe = Pipeline([\n",
    "    ('scale', PolynomialFeatures()),\n",
    "    ('model', KNeighborsRegressor())\n",
    "])\n",
    "ErrorArray = execucao(pipe, X, y, ErrorArray, 'PolynomialFeatures')"
   ]
  },
  {
   "cell_type": "markdown",
   "id": "87cf9f34-904c-4760-876a-d38600e9b5f9",
   "metadata": {},
   "source": [
    "# Resumo dos resultados"
   ]
  },
  {
   "cell_type": "code",
   "execution_count": 41,
   "id": "6d21c0f9-4a6d-4a48-8329-39f4e73845d0",
   "metadata": {},
   "outputs": [
    {
     "name": "stdout",
     "output_type": "stream",
     "text": [
      "                Opção  Erro RMSE\n",
      "0                 Sem   0.925903\n",
      "1      StandardScaler   0.566722\n",
      "2        MinMaxScaler   0.551109\n",
      "3        RobustScaler   0.563576\n",
      "4        MaxAbsScaler   0.662893\n",
      "5  PolynomialFeatures   0.980230\n"
     ]
    }
   ],
   "source": [
    "print(pd.DataFrame(ErrorArray, columns=['Opção', 'Erro RMSE']))\n",
    "# menor erro melhor"
   ]
  },
  {
   "cell_type": "markdown",
   "id": "819ac341-a061-473d-b397-f867d85efa97",
   "metadata": {},
   "source": [
    "### Comparação dos 5 primeiros registros\n",
    "Valores de y original (5 registros\n",
    "0\t4.526\n",
    "1\t3.585\n",
    "2\t3.521\n",
    "3\t3.413\n",
    "4\t3.422\n",
    "\n",
    "Predict sem normalização\n",
    "0\t2.469668\n",
    "1\t2.481556\n",
    "2\t3.243447\n",
    "3\t2.727780\n",
    "4\t2.891557\n",
    "\n",
    "Opção StandardScaler\n",
    "0  4.784107\n",
    "1  4.326802\n",
    "2  4.355605\n",
    "3  3.964403\n",
    "4  2.362700\n",
    "\n",
    "Opção MinMaxScaler\n",
    "0  4.251105\n",
    "1  3.964300\n",
    "2  3.873401\n",
    "3  3.459000\n",
    "4  2.228600\n",
    "\n",
    "Opção RobustScaler\n",
    "0  4.132703\n",
    "1  4.311402\n",
    "2  4.329104\n",
    "3  3.472400\n",
    "4  2.824800\n",
    "\n",
    "MaxAbsScaler\n",
    "0  4.311306\n",
    "1  3.788000\n",
    "2  4.103503\n",
    "3  3.664501\n",
    "4  2.542200\n",
    "\n",
    "PolynomialFeatures\n",
    "0  2.384501\n",
    "1  1.848100\n",
    "2  3.056602\n",
    "3  2.207901\n",
    "4  3.116601"
   ]
  }
 ],
 "metadata": {
  "kernelspec": {
   "display_name": "Python 3",
   "language": "python",
   "name": "python3"
  },
  "language_info": {
   "codemirror_mode": {
    "name": "ipython",
    "version": 3
   },
   "file_extension": ".py",
   "mimetype": "text/x-python",
   "name": "python",
   "nbconvert_exporter": "python",
   "pygments_lexer": "ipython3",
   "version": "3.8.8"
  }
 },
 "nbformat": 4,
 "nbformat_minor": 5
}
